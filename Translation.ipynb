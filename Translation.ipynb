{
 "cells": [
  {
   "cell_type": "code",
   "execution_count": 1,
   "id": "fae8a7a9-6902-424e-8e66-b107fccb361f",
   "metadata": {},
   "outputs": [
    {
     "data": {
      "text/plain": [
       "<torch._C.Generator at 0x7f0018134e30>"
      ]
     },
     "execution_count": 1,
     "metadata": {},
     "output_type": "execute_result"
    }
   ],
   "source": [
    "import pandas as pd\n",
    "import os\n",
    "import numpy as np\n",
    "from matplotlib import pyplot as plt\n",
    "import torch\n",
    "import torch.nn as nn\n",
    "from llamawrapper import LlamaHelper\n",
    "from tqdm import tqdm\n",
    "# fix random seed\n",
    "seed = 42\n",
    "np.random.seed(seed)\n",
    "torch.manual_seed(seed)"
   ]
  },
  {
   "cell_type": "code",
   "execution_count": 2,
   "id": "1b8ce82b",
   "metadata": {},
   "outputs": [
    {
     "name": "stdout",
     "output_type": "stream",
     "text": [
      "Using device: cuda\n"
     ]
    }
   ],
   "source": [
    "# os.environ['CUDA_VISIBLE_DEVICES'] = '0'\n",
    "\n",
    "# device = torch.device(\"cuda\" if torch.cuda.is_available() else \"cpu\")\n",
    "# print(f\"Using device: {device}\")"
   ]
  },
  {
   "cell_type": "code",
   "execution_count": 2,
   "id": "1fb93987",
   "metadata": {
    "tags": [
     "parameters"
    ]
   },
   "outputs": [],
   "source": [
    "input_lang = 'en'\n",
    "latent_lang_1 = 'fr'\n",
    "latent_lang_2 = 'zh'\n",
    "target_lang = 'ja'\n",
    "model_size = '13b'\n",
    "model_selected = 2\n",
    "layer_num = 40\n",
    "out_dir = './visuals'\n",
    "# Need a huggingface token for some model\n",
    "hf_token = ''"
   ]
  },
  {
   "cell_type": "code",
   "execution_count": 5,
   "id": "4c4e4269",
   "metadata": {},
   "outputs": [
    {
     "name": "stderr",
     "output_type": "stream",
     "text": [
      "/home/zhong/miniconda3/envs/latent/lib/python3.12/site-packages/transformers/models/auto/tokenization_auto.py:769: FutureWarning: The `use_auth_token` argument is deprecated and will be removed in v5 of Transformers. Please use `token` instead.\n",
      "  warnings.warn(\n",
      "/home/zhong/miniconda3/envs/latent/lib/python3.12/site-packages/transformers/models/auto/auto_factory.py:468: FutureWarning: The `use_auth_token` argument is deprecated and will be removed in v5 of Transformers. Please use `token` instead.\n",
      "  warnings.warn(\n",
      "Xformers is not installed correctly. If you want to use memory_efficient_attention to accelerate training use the following command to install Xformers\n",
      "pip install xformers.\n",
      "The `load_in_4bit` and `load_in_8bit` arguments are deprecated and will be removed in the future versions. Please, pass a `BitsAndBytesConfig` object in `quantization_config` argument instead.\n",
      "You are using an old version of the checkpointing format that is deprecated (We will also silently ignore `gradient_checkpointing_kwargs` in case you passed it).Please update to the new format on your modeling file. To use the new format, you need to completely remove the definition of the method `_set_gradient_checkpointing` in your model.\n"
     ]
    },
    {
     "data": {
      "application/vnd.jupyter.widget-view+json": {
       "model_id": "b0619343375b46e1ba419618624642e4",
       "version_major": 2,
       "version_minor": 0
      },
      "text/plain": [
       "Loading checkpoint shards:   0%|          | 0/3 [00:00<?, ?it/s]"
      ]
     },
     "metadata": {},
     "output_type": "display_data"
    }
   ],
   "source": [
    "# from transformers import AutoTokenizer, AutoModelForCausalLM\n",
    "# load_in_8bit=True\n",
    "# use_embed_head=False\n",
    "# device_map='auto'\n",
    "# trust_remote_code = True\n",
    "# cache_directory = '/mnt/berry/data/transformers_cache/'\n",
    "# tokenizer = AutoTokenizer.from_pretrained(custom_model, use_auth_token=hf_token, trust_remote_code = trust_remote_code, cache_dir=cache_directory)\n",
    "\n",
    "# model = AutoModelForCausalLM.from_pretrained(custom_model, use_auth_token=hf_token,\n",
    "#                                                 device_map=device_map,\n",
    "#                                                 load_in_8bit=load_in_8bit,\n",
    "#                                                 trust_remote_code = trust_remote_code,\n",
    "#                                                 cache_dir=cache_directory)\n"
   ]
  },
  {
   "cell_type": "code",
   "execution_count": 4,
   "id": "1845500c",
   "metadata": {},
   "outputs": [],
   "source": [
    "if model_selected == 1:\n",
    "    custom_model = 'llm-jp/llm-jp-13b-v2.0'\n",
    "elif model_selected == 2:\n",
    "    custom_model = 'meta-llama/Llama-2-%s-hf'%model_size\n",
    "elif model_selected == 3:\n",
    "    custom_model = 'tokyotech-llm/Swallow-%s-hf'%model_size\n",
    "elif model_selected == 4:\n",
    "    custom_model = 'hfl/chinese-llama-2-13b'\n",
    "elif model_selected == 5:\n",
    "    custom_model = 'baichuan-inc/Baichuan2-13B-Base'\n",
    "elif model_selected == 6:\n",
    "    custom_model = 'sambanovasystems/SambaLingo-Arabic-Base'\n",
    "elif model_selected == 7:\n",
    "    custom_model = 'OpenLLM-France/Claire-Mistral-7B-0.1'\n",
    "elif model_selected == 8:\n",
    "    custom_model = 'croissantllm/CroissantLLMBase'\n",
    "# elif model_selected == 9:\n",
    "#     custom_model = 'inceptionai/jais-13b' -- GPT based model"
   ]
  },
  {
   "cell_type": "code",
   "execution_count": null,
   "id": "b4e8141b-1c21-4132-86d1-e537e6244bf0",
   "metadata": {
    "scrolled": true
   },
   "outputs": [],
   "source": [
    "# Change to your own path\n",
    "cache_directory = '/mnt/berry/data/transformers_cache/'\n",
    "if custom_model is not None:\n",
    "    model = LlamaHelper(dir=custom_model, load_in_8bit=True, hf_token=hf_token,cache_directory=cache_directory)"
   ]
  },
  {
   "cell_type": "code",
   "execution_count": null,
   "id": "3f081bde",
   "metadata": {},
   "outputs": [],
   "source": [
    "tokenizer = model.tokenizer\n",
    "# from transformers import AutoTokenizer, AutoModelForCausalLM\n",
    "# trust_remote_code = True\n",
    "# cache_directory = '/mnt/berry/data/transformers_cache/'\n",
    "# tokenizer = AutoTokenizer.from_pretrained(custom_model, use_auth_token=hf_token, trust_remote_code = trust_remote_code, cache_dir=cache_directory)"
   ]
  },
  {
   "cell_type": "code",
   "execution_count": 6,
   "id": "12518988",
   "metadata": {},
   "outputs": [],
   "source": [
    "file_path = 'multi5.csv'\n",
    "df = pd.read_csv(file_path)"
   ]
  },
  {
   "cell_type": "code",
   "execution_count": 7,
   "id": "d8f63cb4",
   "metadata": {},
   "outputs": [],
   "source": [
    "def capitalizations(token_str):\n",
    "    variants = [token_str.lower(), token_str.capitalize()]\n",
    "    return list(set(variants))\n",
    "\n",
    "def add_spaces_(tokens):\n",
    "    return ['▁' + t for t in tokens] + tokens\n",
    "\n",
    "def add_spaces(tokens):\n",
    "    return [' ' + t for t in tokens] + tokens\n",
    "\n",
    "def add_(tokens):\n",
    "    return ['_' + t for t in tokens]\n",
    "\n",
    "def ar_(tokens):\n",
    "    return ['\"' + t for t in tokens]\n",
    "\n",
    "# Obtain all possible tokenizations of a word\n",
    "def process_tokens(token_str: str, tokenizer, lang):\n",
    "    final_tokens = []\n",
    "    # print(token_str)\n",
    "    if lang in ['en', 'fr']:\n",
    "        with_capitalizations = capitalizations(token_str)\n",
    "        if model_selected == 9:\n",
    "            with_spaces = add_spaces(with_capitalizations)\n",
    "        else:\n",
    "            with_spaces = add_spaces_(with_capitalizations)\n",
    "        finail = with_spaces + add_(with_capitalizations)\n",
    "        finail = list(set(finail))\n",
    "        for tok in finail:\n",
    "            default_tokens = tokenizer.tokenize(tok)\n",
    "            default_token_ids = tokenizer.convert_tokens_to_ids(default_tokens)\n",
    "\n",
    "            if tok.startswith('_') and len(default_token_ids) > 1:\n",
    "                if model_selected == 1:\n",
    "                    final_tokens.append(default_token_ids[2:])\n",
    "                else:\n",
    "                    final_tokens.append(default_token_ids[1:])\n",
    "            elif model_selected == 1 and lang == 'fr':\n",
    "                final_tokens.append(default_token_ids[:])\n",
    "                if default_token_ids[0] == 31:\n",
    "                    final_tokens.append(default_token_ids[1:])\n",
    "            else:\n",
    "                final_tokens.append(default_token_ids)\n",
    "    elif lang in ['ja', 'zh']:\n",
    "        finail = ['▁' + token_str] + [token_str]\n",
    "        for tok in finail:\n",
    "            default_tokens = tokenizer.tokenize(tok)\n",
    "            default_token_ids = tokenizer.convert_tokens_to_ids(default_tokens)\n",
    "            final_tokens.append(default_token_ids)\n",
    "            if len(default_token_ids) > 1 and model_selected!=5:\n",
    "                final_tokens.append(default_token_ids[1:])\n",
    "    elif lang in ['ar']:\n",
    "        finail = ['▁' + token_str] + [token_str] + ['\"' + token_str]\n",
    "        for tok in finail:\n",
    "            default_tokens = tokenizer.tokenize(tok)\n",
    "            default_token_ids = tokenizer.convert_tokens_to_ids(default_tokens)\n",
    "            if tok.startswith('\"'):\n",
    "                final_tokens.append(default_token_ids[1:])\n",
    "            else:\n",
    "                final_tokens.append(default_token_ids)\n",
    "                if len(default_token_ids) > 1:\n",
    "                    final_tokens.append(default_token_ids[1:])\n",
    "    return final_tokens"
   ]
  },
  {
   "cell_type": "code",
   "execution_count": 8,
   "id": "9abb1737",
   "metadata": {},
   "outputs": [],
   "source": [
    "def remove_duplicates(nested_list):\n",
    "    if len(nested_list) <= 1:\n",
    "        return nested_list\n",
    "    return [list(x) for x in set(tuple(x) for x in nested_list)]"
   ]
  },
  {
   "cell_type": "code",
   "execution_count": 9,
   "id": "5cac42ae",
   "metadata": {},
   "outputs": [],
   "source": [
    "id2voc = {id:voc for voc, id in tokenizer.get_vocab().items()}\n",
    "def get_tokens(token_ids, id2voc=id2voc):\n",
    "    return [id2voc[tokid] for tokid in token_ids]\n",
    "\n",
    "def compute_entropy(probas):\n",
    "    return (-probas*torch.log2(probas)).sum(dim=-1)\n",
    "\n",
    "lang2name = {'fr': 'Français', 'en': 'English', 'zh': '中文', 'ja': '日本語', 'ar': 'عربي'}\n",
    "def sample(df, ind, k=5, tokenizer=tokenizer, lang1='fr', lang2='zh', lang_latent_1='en', lang_latent_2='ja'):\n",
    "    df = df.reset_index(drop=True)\n",
    "    temp = df[df.index!=ind]\n",
    "    sample = pd.concat([temp.sample(k-1), df[df.index==ind]], axis=0)\n",
    "    prompt = \"\"\n",
    "    for idx, (df_idx, row) in enumerate(sample.iterrows()):\n",
    "        if idx < k-1:\n",
    "            prompt += f'{lang2name[lang1]}: \"{row[lang1]}\" - {lang2name[lang2]}: \"{row[lang2]}\"\\n'\n",
    "        else:\n",
    "            prompt += f'{lang2name[lang1]}: \"{row[lang1]}\" - {lang2name[lang2]}: \"'\n",
    "            in_token_str = row[lang1]\n",
    "            in_token_id = process_tokens(in_token_str, tokenizer, lang1)\n",
    "            in_token_id = remove_duplicates(in_token_id)\n",
    "            out_token_str = row[lang2]\n",
    "            out_token_id = process_tokens(out_token_str, tokenizer, lang2)\n",
    "            out_token_id = remove_duplicates(out_token_id)\n",
    "            latent_token_str_1 = row[lang_latent_1]\n",
    "            latent_token_id_1 = process_tokens(latent_token_str_1, tokenizer, latent_lang_1)\n",
    "            latent_token_id_1 = remove_duplicates(latent_token_id_1)\n",
    "            latent_token_str_2 = row[lang_latent_2]\n",
    "            latent_token_id_2 = process_tokens(latent_token_str_2, tokenizer, lang_latent_2)\n",
    "            latent_token_id_2 = remove_duplicates(latent_token_id_2)\n",
    "            yield {'prompt': prompt, \n",
    "                'out_token_id': out_token_id, \n",
    "                'out_token_str': out_token_str,\n",
    "                'latent_token_id_1': latent_token_id_1, \n",
    "                'latent_token_str_1': latent_token_str_1, \n",
    "                'latent_token_id_2': latent_token_id_2, \n",
    "                'latent_token_str_2': latent_token_str_2, \n",
    "                'in_token_str': in_token_str,\n",
    "                'in_token_id': in_token_id\n",
    "                }"
   ]
  },
  {
   "cell_type": "code",
   "execution_count": 10,
   "id": "5e74bd4a",
   "metadata": {},
   "outputs": [
    {
     "name": "stderr",
     "output_type": "stream",
     "text": [
      "  0%|          | 0/166 [00:00<?, ?it/s]"
     ]
    },
    {
     "name": "stderr",
     "output_type": "stream",
     "text": [
      "100%|██████████| 166/166 [00:00<00:00, 535.88it/s]\n"
     ]
    }
   ],
   "source": [
    "dataset = []\n",
    "for ind in tqdm(range(len(df))):\n",
    "    d = next(sample(df, ind, lang1=input_lang, lang2=target_lang, lang_latent_1 = latent_lang_1, lang_latent_2 = latent_lang_2))\n",
    "    if d is None:\n",
    "        continue\n",
    "    dataset.append(d)"
   ]
  },
  {
   "cell_type": "code",
   "execution_count": null,
   "id": "17cbe163",
   "metadata": {},
   "outputs": [],
   "source": [
    "# for i in dataset[0]['out_token_id']:\n",
    "#     strings=tokenizer.decode(i)\n",
    "#     print(strings)"
   ]
  },
  {
   "cell_type": "code",
   "execution_count": 12,
   "id": "984ba309",
   "metadata": {},
   "outputs": [],
   "source": [
    "df = pd.DataFrame(dataset)"
   ]
  },
  {
   "cell_type": "code",
   "execution_count": 13,
   "id": "d786ab1b",
   "metadata": {},
   "outputs": [],
   "source": [
    "df = pd.DataFrame(dataset)\n",
    "os.makedirs(f'{os.path.join(out_dir, custom_model)}/translation', exist_ok=True)\n",
    "if single_token_only:\n",
    "    df.to_csv(f'{os.path.join(out_dir, custom_model)}/translation/{model_size}_{input_lang}_{target_lang}_dataset_single_token.csv', index=False)\n",
    "elif multi_token_only:\n",
    "    df.to_csv(f'{os.path.join(out_dir, custom_model)}/translation/{model_size}_{input_lang}_{target_lang}_dataset_multi_token.csv', index=False)\n",
    "else:\n",
    "    df.to_csv(f'{os.path.join(out_dir, custom_model)}/translation/{model_size}_{input_lang}_{target_lang}_dataset2.csv', index=False)"
   ]
  },
  {
   "cell_type": "code",
   "execution_count": 15,
   "id": "e7c5f680",
   "metadata": {},
   "outputs": [],
   "source": [
    "def compute_sequence_probabilities(prompt, tokenizer, token_sequences, model, where, model_selected, layer_num):\n",
    "\n",
    "    prompt_ids = tokenizer.encode(prompt, return_tensors='pt')\n",
    "    if model_selected == 1:\n",
    "        prompt_ids = prompt_ids[:, :-1]\n",
    "\n",
    "    total_probabilities = torch.zeros(layer_num)\n",
    "\n",
    "    for token_sequence in token_sequences:\n",
    "        sequence_probabilities = torch.ones(layer_num)\n",
    "        current_input_ids = prompt_ids\n",
    "\n",
    "        with torch.no_grad():\n",
    "            for token_id in token_sequence:\n",
    "                outputs = model(current_input_ids, output_hidden_states=True)\n",
    "                layer_probabilities = torch.ones(layer_num)\n",
    "\n",
    "                for layer_id in range(layer_num):\n",
    "                    layer_output = model.model.layers[layer_id].output\n",
    "                    if where == 1:\n",
    "                        normed = model.model.norm(layer_output)\n",
    "                    elif where == 2:\n",
    "                        normed = model.model.layers[layer_id].post_attention_layernorm(layer_output)\n",
    "\n",
    "                    logits = model.lm_head(normed)\n",
    "                    token_probabilities = logits[:, -1, :].softmax(dim=-1).detach().cpu()[:, token_id]\n",
    "                    layer_probabilities[layer_id] = token_probabilities\n",
    "\n",
    "                sequence_probabilities *= layer_probabilities\n",
    "                new_input_ids = torch.tensor([[token_id]], device=current_input_ids.device)\n",
    "                current_input_ids = torch.cat([current_input_ids, new_input_ids], dim=1)\n",
    "        total_probabilities += sequence_probabilities\n",
    "\n",
    "    return total_probabilities"
   ]
  },
  {
   "cell_type": "code",
   "execution_count": 16,
   "id": "cd63d9f5",
   "metadata": {},
   "outputs": [],
   "source": [
    "\n",
    "os.makedirs(f'{os.path.join(out_dir, custom_model)}/translation', exist_ok=True)"
   ]
  },
  {
   "cell_type": "code",
   "execution_count": null,
   "id": "f9be8d9a",
   "metadata": {},
   "outputs": [],
   "source": [
    "# dataset_subset = dataset[0:10]"
   ]
  },
  {
   "cell_type": "code",
   "execution_count": 17,
   "id": "005c092a",
   "metadata": {},
   "outputs": [
    {
     "data": {
      "text/plain": [
       "'English: \"popularity\" - عربي: \"شعبية\"\\nEnglish: \"from now on\" - عربي: \"من الآن فصاعداً\"\\nEnglish: \"burden\" - عربي: \"عبء\"\\nEnglish: \"trade\" - عربي: \"تجارة\"\\nEnglish: \"telephone\" - عربي: \"'"
      ]
     },
     "execution_count": 17,
     "metadata": {},
     "output_type": "execute_result"
    }
   ],
   "source": [
    "# dataset[0]['prompt']"
   ]
  },
  {
   "cell_type": "code",
   "execution_count": 107,
   "id": "1298ba05",
   "metadata": {},
   "outputs": [
    {
     "name": "stderr",
     "output_type": "stream",
     "text": [
      "40it [04:18,  6.45s/it]\n"
     ]
    }
   ],
   "source": [
    "latent_token_probs_1 = []\n",
    "latent_token_probs_2 = []\n",
    "out_token_probs = []\n",
    "equal = 0\n",
    "in_token_probs = []\n",
    "\n",
    "end = -2 if model_selected == 1 else -1\n",
    "for idx, d in tqdm(enumerate(dataset)):\n",
    "    out_probs = compute_sequence_probabilities(prompt = d['prompt'], tokenizer = tokenizer, token_sequences = d['out_token_id'], model = model.model, where = 1, model_selected = model_selected, layer_num = layer_num)\n",
    "    if target_lang == latent_lang_1:\n",
    "        equal = 1\n",
    "        latent_probs_1 = out_probs\n",
    "    else:\n",
    "        latent_probs_1 = compute_sequence_probabilities(prompt = d['prompt'], tokenizer = tokenizer, token_sequences = d['latent_token_id_1'], model = model.model, where = 1, model_selected = model_selected, layer_num = layer_num)\n",
    "    if target_lang == latent_lang_2:\n",
    "        equal = 2\n",
    "        latent_probs_2 = out_probs\n",
    "    elif latent_lang_1 == latent_lang_2:\n",
    "        latent_probs_2 = latent_probs_1\n",
    "    else:\n",
    "        latent_probs_2 = compute_sequence_probabilities(prompt = d['prompt'], tokenizer = tokenizer, token_sequences = d['latent_token_id_2'], model = model.model, where = 1, model_selected = model_selected, layer_num = layer_num)\n",
    "    # in_probs = compute_sequence_probabilities(prompt = d['prompt'], tokenizer = tokenizer, token_sequences = d['in_token_id'], model = model.model, where = 1, model_selected = model_selected, layer_num = layer_num)\n",
    "\n",
    "    latent_token_probs_1.append(latent_probs_1)\n",
    "    latent_token_probs_2.append(latent_probs_2)\n",
    "    out_token_probs.append(out_probs)\n",
    "    # in_token_probs.append(in_probs)\n",
    "\n",
    "latent_token_probs_1 = torch.stack(latent_token_probs_1)\n",
    "latent_token_probs_2 = torch.stack(latent_token_probs_2)\n",
    "out_token_probs = torch.stack(out_token_probs)\n",
    "# in_token_probs = torch.stack(in_token_probs)\n",
    "np.savez(f'{os.path.join(out_dir, custom_model)}/translation/{model_size}_{input_lang}_{target_lang}_probas.npz',\n",
    "         latent_token_probs_1=latent_token_probs_1,\n",
    "         latent_token_probs_2=latent_token_probs_2,\n",
    "         out_token_probs=out_token_probs)"
   ]
  },
  {
   "cell_type": "code",
   "execution_count": 108,
   "id": "dbcd2168",
   "metadata": {},
   "outputs": [
    {
     "data": {
      "image/png": "[encoded data removed]",
      "text/plain": [
       "<Figure size 600x400 with 1 Axes>"
      ]
     },
     "metadata": {},
     "output_type": "display_data"
    }
   ],
   "source": [
    "def plot_ci_mk2(ax, data, label, color='blue', linestyle='-', tik_step=5, layer_num=40):\n",
    "\n",
    "    data = np.array(data)\n",
    "    for i in range(0, layer_num+1, tik_step):\n",
    "        ax.axvline(i, color='black', linestyle='--', alpha=0.2, linewidth=1)\n",
    "    \n",
    "    mean = data.mean(axis=0)\n",
    "    std = data.std(axis=0)\n",
    "    std_err = std / np.sqrt(data.shape[0])\n",
    "    data_ci = {\n",
    "        'x': np.arange(data.shape[1]) + 1,\n",
    "        'y': mean,\n",
    "        'y_upper': mean + 1.96 * std_err,\n",
    "        'y_lower': mean - 1.96 * std_err,\n",
    "    }\n",
    "    df = pd.DataFrame(data_ci)\n",
    "    ax.plot(df['x'], df['y'], label=label, color=color, linestyle=linestyle)\n",
    "    ax.fill_between(df['x'], df['y_lower'], df['y_upper'], color=color, alpha=0.3)\n",
    "\n",
    "def plot_ci_plus_heatmap_mk2(latent_token_probs_1, latent_token_probs_2, out_token_probs, in_token_probs, input_lang, latent_lang_1, latent_lang_2, target_lang, color='blue', tik_step=5, equal=0, layer_num=40):\n",
    "\n",
    "    fig, ax = plt.subplots(figsize=(6, 4))\n",
    "    \n",
    "\n",
    "    if equal == 1:\n",
    "        plot_ci_mk2(ax, latent_token_probs_1, f'{latent_lang_1}_target', color='tab:orange', tik_step=tik_step, layer_num=layer_num)\n",
    "    else: \n",
    "        plot_ci_mk2(ax, latent_token_probs_1, f'{latent_lang_1}_latent', color='tab:orange', tik_step=tik_step, layer_num=layer_num)\n",
    "    if equal == 2:\n",
    "        plot_ci_mk2(ax, latent_token_probs_2, f'{latent_lang_2}_target', color='tab:red', tik_step=tik_step, layer_num=layer_num)\n",
    "    else:\n",
    "        plot_ci_mk2(ax, latent_token_probs_2, f'{latent_lang_2}_latent', color='tab:red', tik_step=tik_step, layer_num=layer_num)\n",
    "    if equal == 0:\n",
    "        plot_ci_mk2(ax, out_token_probs, f'{target_lang}_target', color='tab:blue', tik_step=tik_step)\n",
    "\n",
    "    ax.set_xlabel('layer')\n",
    "    ax.set_ylabel('probability')\n",
    "    \n",
    "    ax.set_xlim(0, layer_num)\n",
    "    ax.set_ylim(0, 1)\n",
    "    \n",
    "    ax.set_xticks(np.arange(0, layer_num+1, step=tik_step))\n",
    "    ax.set_yticks([0, 0.5, 1.0])\n",
    "    ax.legend(loc='upper left')\n",
    "    plt.tight_layout()\n",
    "    return fig, ax\n",
    "\n",
    "\n",
    "fig, ax = plot_ci_plus_heatmap_mk2(latent_token_probs_1, latent_token_probs_2, out_token_probs, in_token_probs, input_lang, latent_lang_1, latent_lang_2, target_lang, color='tab:orange', tik_step=5, equal=equal, layer_num=layer_num)\n",
    "\n",
    "plt.savefig(f'{os.path.join(out_dir, custom_model)}/translation/{model_size}_{input_lang}_{target_lang}_probas_ent.pdf', dpi=300, bbox_inches='tight')\n",
    "plt.show()\n"
   ]
  },
  {
   "cell_type": "code",
   "execution_count": 20,
   "id": "df80128a",
   "metadata": {},
   "outputs": [
    {
     "name": "stdout",
     "output_type": "stream",
     "text": [
      "\n"
     ]
    }
   ],
   "source": [
    "# for i in dataset[0]['out_token_id']:\n",
    "#     alternative_decoded_strings=tokenizer.decode(i)\n",
    "#     print(alternative_decoded_strings)"
   ]
  },
  {
   "cell_type": "code",
   "execution_count": 50,
   "id": "ae6155f9",
   "metadata": {},
   "outputs": [
    {
     "name": "stdout",
     "output_type": "stream",
     "text": [
      "\n"
     ]
    }
   ],
   "source": [
    "# alternative_decoded_strings=tokenizer.decode([29871])\n",
    "# print(alternative_decoded_strings)"
   ]
  },
  {
   "cell_type": "code",
   "execution_count": 22,
   "id": "8e871907",
   "metadata": {},
   "outputs": [
    {
     "name": "stdout",
     "output_type": "stream",
     "text": [
      "電話\n",
      "Default tokens: ['▁']\n",
      "Default token IDs: [488]\n",
      "\n"
     ]
    }
   ],
   "source": [
    "# words2 = '電話'\n",
    "# print(words2)\n",
    "# default_tokens = tokenizer.tokenize(words2)\n",
    "# default_token_ids = tokenizer.convert_tokens_to_ids(default_tokens)\n",
    "# print(\"Default tokens:\", default_tokens)\n",
    "# print(\"Default token IDs:\", default_token_ids)\n",
    "# alternative_decoded_strings=tokenizer.decode(default_token_ids)\n",
    "# print(alternative_decoded_strings)"
   ]
  },
  {
   "cell_type": "code",
   "execution_count": 46,
   "id": "03c21c9e",
   "metadata": {},
   "outputs": [],
   "source": [
    "import torch\n",
    "import torch.nn.functional as F\n",
    "\n",
    "def custom_beam_search(model, tokenizer, device, prompt, num_beams=5, max_length=50, layer_id=39):\n",
    "    prompt_ids = tokenizer.encode(prompt, return_tensors='pt').to(device)\n",
    "\n",
    "    all_candidates = []\n",
    "    all_probabilities = []\n",
    "\n",
    "    for step in range(max_length):\n",
    "        if not all_candidates:\n",
    "            with torch.no_grad():\n",
    "                outputs = model(prompt_ids)\n",
    "                layer_output = model.model.layers[layer_id].output\n",
    "                normed = model.model.norm(layer_output)\n",
    "                logits = model.lm_head(normed)\n",
    "                \n",
    "                probs = F.softmax(logits[:, -1, :], dim=-1)\n",
    "                top_probs, top_indices = torch.topk(probs, num_beams, dim=1)\n",
    "            for i in range(num_beams):\n",
    "                all_candidates.append([top_indices[0, i].item()])\n",
    "                all_probabilities.append(top_probs[0, i].item())\n",
    "        else:\n",
    "            new_candidates = []\n",
    "            new_probabilities = []\n",
    "\n",
    "            for i in range(len(all_candidates)):\n",
    "                candidate_ids = prompt_ids.clone()\n",
    "                candidate_ids = torch.cat([candidate_ids.squeeze(0), torch.tensor(all_candidates[i], device=device)], dim=0).unsqueeze(0)\n",
    "                with torch.no_grad():\n",
    "                    outputs = model(candidate_ids)\n",
    "                    layer_output = model.model.layers[layer_id].output\n",
    "                    normed = model.model.norm(layer_output)\n",
    "                    logits = model.lm_head(normed)\n",
    "                    probs = F.softmax(logits[:, -1, :], dim=-1)\n",
    "                    top_probs, top_indices = torch.topk(probs, num_beams, dim=1)\n",
    "                for j in range(num_beams):\n",
    "                    new_candidates.append(all_candidates[i] + [top_indices[0, j].item()])\n",
    "                    new_probabilities.append(all_probabilities[i] * top_probs[0, j].item())\n",
    "\n",
    "            all_candidates = new_candidates\n",
    "            all_probabilities = new_probabilities\n",
    "\n",
    "\n",
    "            top_indices = torch.topk(torch.tensor(all_probabilities), num_beams, largest=True).indices\n",
    "            all_candidates = [all_candidates[i] for i in top_indices]\n",
    "            all_probabilities = [all_probabilities[i] for i in top_indices]\n",
    "    final_results = [tokenizer.decode(candidate) for candidate in all_candidates]\n",
    "    return list(zip(final_results, all_candidates, all_probabilities))\n"
   ]
  },
  {
   "cell_type": "code",
   "execution_count": 47,
   "id": "79923f05",
   "metadata": {},
   "outputs": [
    {
     "name": "stdout",
     "output_type": "stream",
     "text": [
      "Sequence: هاتف\", Ids: [30204, 33198, 29908], Probability: 0.9903\n",
      "Sequence: هاتف\n",
      ", Ids: [30204, 33198, 13], Probability: 0.0013\n",
      "Sequence: الهاتف\", Ids: [34565, 33198, 29908], Probability: 0.0008\n",
      "Sequence: تليفون\", Ids: [30195, 50227, 29908], Probability: 0.0005\n",
      "Sequence: تلفون, Ids: [30195, 32182, 32027], Probability: 0.0005\n",
      "Sequence: جوال\", Ids: [30270, 32562, 29908], Probability: 0.0002\n",
      "Sequence: هواتف\", Ids: [30204, 36464, 29908], Probability: 0.0002\n",
      "Sequence: هاتفي\", Ids: [33616, 32139, 29908], Probability: 0.0002\n",
      "Sequence: هاتِف\", Ids: [33616, 41782, 29908], Probability: 0.0002\n",
      "Sequence: هاتف محمول, Ids: [30204, 33198, 43835], Probability: 0.0002\n"
     ]
    },
    {
     "data": {
      "text/plain": [
       "{'prompt': 'عربي: \"مشي\" - عربي: \"مشي\"\\nعربي: \"قضية\" - عربي: \"قضية\"\\nعربي: \"تمرين\" - عربي: \"تمرين\"\\nعربي: \"تاريخ\" - عربي: \"تاريخ\"\\nعربي: \"هاتف\" - عربي: \"',\n",
       " 'out_token_id': [[29871, 34948], [34948]],\n",
       " 'out_token_str': 'هاتف',\n",
       " 'latent_token_id_1': [[29871, 4382, 6710],\n",
       "  [29911, 6146, 6710],\n",
       "  [9699, 6710],\n",
       "  [4382, 6710],\n",
       "  [15494, 6710],\n",
       "  [29871, 9699, 6710]],\n",
       " 'latent_token_str_1': 'telephone',\n",
       " 'latent_token_id_2': [[29871, 34948], [34948]],\n",
       " 'latent_token_str_2': 'هاتف',\n",
       " 'in_token_str': 'هاتف',\n",
       " 'in_token_id': [[29871, 34948], [34948]]}"
      ]
     },
     "execution_count": 47,
     "metadata": {},
     "output_type": "execute_result"
    }
   ],
   "source": [
    "# layer_idx = 31\n",
    "# num_beams = 10\n",
    "# n = 0\n",
    "# max_length = 3\n",
    "# prompt = dataset[n]['prompt']\n",
    "# device = torch.device(\"cuda\" if torch.cuda.is_available() else \"cpu\")\n",
    "# # prompt = dataset[4].enTja\n",
    "# results = custom_beam_search(model=model.model, tokenizer=tokenizer, device=device, prompt=prompt, num_beams=num_beams, max_length=max_length, layer_id=layer_idx)\n",
    "# # results = generate_intermediate_text_with_beam_search_hidden(model=model.model, tokenizer=tokenizer, device=device, layer_idx=39, prompt=prompt, num_beams=num_beams, max_length=max_length)\n",
    "# for result, id, probability in results:\n",
    "#     print(f\"Sequence: {result}, Ids: {id}, Probability: {probability:.4f}\")\n",
    "# dataset[n]"
   ]
  }
 ],
 "metadata": {
  "kernelspec": {
   "display_name": "latent",
   "language": "python",
   "name": "python3"
  },
  "language_info": {
   "codemirror_mode": {
    "name": "ipython",
    "version": 3
   },
   "file_extension": ".py",
   "mimetype": "text/x-python",
   "name": "python",
   "nbconvert_exporter": "python",
   "pygments_lexer": "ipython3",
   "version": "3.12.3"
  }
 },
 "nbformat": 4,
 "nbformat_minor": 5
}
